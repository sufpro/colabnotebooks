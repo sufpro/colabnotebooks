{
  "cells": [
    {
      "cell_type": "markdown",
      "metadata": {
        "id": "view-in-github",
        "colab_type": "text"
      },
      "source": [
        "<a href=\"https://colab.research.google.com/github/sufpro/colabnotebooks/blob/advanced-nlp-with-python-for-machine-learning-Gwendolyn-Stripling/nlp.ipynb\" target=\"_parent\"><img src=\"https://colab.research.google.com/assets/colab-badge.svg\" alt=\"Open In Colab\"/></a>"
      ]
    },
    {
      "cell_type": "code",
      "source": [
        "# Install Libraries and Modules\n",
        "import spacy\n",
        "from textblob import TextBlob\n",
        "import pandas as pd\n",
        "import csv\n",
        "\n",
        "import seaborn as sns\n",
        "import matplotlib.pyplot as plt"
      ],
      "metadata": {
        "id": "715SrVLeFx9k"
      },
      "execution_count": 1,
      "outputs": []
    },
    {
      "cell_type": "code",
      "source": [
        "# Load the English NLP model\n",
        "nlp = spacy.load(\"en_core_web_sm\")\n",
        "\n",
        "\n",
        "#Define the path to the file containing feedback\n",
        "file_path = './content/feedback_data.csv'"
      ],
      "metadata": {
        "id": "M1QkYk7ccPWv"
      },
      "execution_count": 22,
      "outputs": []
    },
    {
      "cell_type": "code",
      "source": [
        "# Read the file using open() with the specified parameters\n",
        "with open(file_path, \"r\", encoding=\"utf-8\") as file:\n",
        "    # Step 2: Read the lines of the file\n",
        "    feedback_data = file.readlines()\n",
        "\n",
        "# Add code to output feedback results to a file.\n",
        "output_csv_path = \"feedback_analysis_results.csv\"\n",
        "\n",
        "# Prepare CSV header\n",
        "csv_header = [\"Feedback Index\", \"Sentiment Polarity\", \"Sentiment Subjectivity\", \"Named Entities\", \"Preferred Contact Method\"]\n",
        "\n",
        "# Open CSV file for writing\n",
        "with open(output_csv_path, \"w\", newline=\"\", encoding=\"utf-8\") as csv_file:\n",
        "    # Create CSV writer\n",
        "    csv_writer = csv.writer(csv_file)\n",
        "\n",
        "    # Write the header\n",
        "    csv_writer.writerow(csv_header)\n",
        "\n",
        "# Process and analyze each feedback\n",
        "for idx, narrative in enumerate(feedback_data, start=1):\n",
        "#    print(f\"\\nProcessing Feedback {idx}:\")\n",
        "#    print(\"------------------------------\")\n",
        "#    print(narrative.strip())\n",
        "\n",
        "# Process the narrative using spaCy\n",
        "    #doc = nlp(narrative)\n",
        "\n",
        "# Perform sentiment analysis using TextBlob\n",
        "    blob = TextBlob(narrative)\n",
        "    print(blob)\n",
        "    sentiment_polarity = blob.sentiment.polarity\n",
        "    sentiment_subjectivity = blob.sentiment.subjectivity\n",
        "    print(f\"Sentiment: {sentiment_polarity} (Polarity), {sentiment_subjectivity} (Subjectivity)\")\n"
      ],
      "metadata": {
        "id": "zDrQYA1Fcl3x",
        "outputId": "bd11c38c-f096-4f38-c67f-564324c4c145",
        "colab": {
          "base_uri": "https://localhost:8080/"
        }
      },
      "execution_count": 23,
      "outputs": [
        {
          "output_type": "stream",
          "name": "stdout",
          "text": [
            "i really hate your product\n",
            "Sentiment: -0.8 (Polarity), 0.9 (Subjectivity)\n"
          ]
        }
      ]
    }
  ],
  "metadata": {
    "colab": {
      "name": "Welcome to Colab",
      "provenance": [],
      "include_colab_link": true
    },
    "kernelspec": {
      "display_name": "Python 3",
      "name": "python3"
    }
  },
  "nbformat": 4,
  "nbformat_minor": 0
}