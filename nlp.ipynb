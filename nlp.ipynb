{
  "cells": [
    {
      "cell_type": "markdown",
      "metadata": {
        "id": "view-in-github",
        "colab_type": "text"
      },
      "source": [
        "<a href=\"https://colab.research.google.com/github/sufpro/colabnotebooks/blob/advanced-nlp-with-python-for-machine-learning-Gwendolyn-Stripling/nlp.ipynb\" target=\"_parent\"><img src=\"https://colab.research.google.com/assets/colab-badge.svg\" alt=\"Open In Colab\"/></a>"
      ]
    },
    {
      "cell_type": "code",
      "source": [
        "# Install Libraries and Modules\n",
        "import spacy\n",
        "from textblob import TextBlob\n",
        "import pandas as pd\n",
        "import csv\n",
        "\n",
        "import seaborn as sns\n",
        "import matplotlib.pyplot as plt"
      ],
      "metadata": {
        "id": "715SrVLeFx9k"
      },
      "execution_count": 1,
      "outputs": []
    },
    {
      "cell_type": "markdown",
      "source": [
        "**File Handling**"
      ],
      "metadata": {
        "id": "gEyp6HC32AWM"
      }
    },
    {
      "cell_type": "code",
      "source": [
        "#Define the path to the file containing feedback\n",
        "file_path = './content/feedback_data.csv'\n",
        "\n",
        "# Read the file using open() with the specified parameters\n",
        "with open(file_path, \"r\", encoding=\"utf-8\") as file:\n",
        "    # Step 2: Read the lines of the file\n",
        "    feedback_data = file.readlines()\n",
        "\n",
        "# Add code to output feedback results to a file.\n",
        "output_csv_path = \"./content/feedback_analysis_results.csv\"\n",
        "\n",
        "# Prepare CSV header\n",
        "csv_header = [\"Feedback Index\", \"Feedback\", \"Sentiment Polarity\", \"Sentiment Subjectivity\", \"Named Entities\", \"Preferred Contact Method\"]\n",
        "\n",
        "# Open CSV file for writing\n",
        "with open(output_csv_path, \"w\", newline=\"\", encoding=\"utf-8\") as csv_file:\n",
        "    # Create CSV writer\n",
        "    csv_writer = csv.writer(csv_file)\n",
        "\n",
        "    # Write the header\n",
        "    csv_writer.writerow(csv_header)\n",
        "\n",
        "    # Process and analyze each feedback\n",
        "    for idx, narrative in enumerate(feedback_data, start=1):\n",
        "        print(f\"\\nProcessing Feedback {idx}:\")\n",
        "        print(\"------------------------------\")\n",
        "        print(narrative.strip())\n",
        "\n",
        "# Perform sentiment analysis on looped text using TextBlob\n",
        "        blob = TextBlob(narrative)\n",
        "        sentiment_polarity = blob.sentiment.polarity\n",
        "        sentiment_subjectivity = blob.sentiment.subjectivity\n",
        "        print(f\"Sentiment: {sentiment_polarity} (Polarity), {sentiment_subjectivity} (Subjectivity)\")\n",
        "\n",
        "# Load the English NLP model\n",
        "        nlp = spacy.load(\"en_core_web_sm\")\n",
        "\n",
        "        # Process the narrative using spaCy\n",
        "        doc = nlp(narrative)\n",
        "\n",
        "        # Extract named entities\n",
        "        entities = [(ent.text, ent.label_) for ent in doc.ents]\n",
        "        print(\"Named Entities:\", entities)\n",
        "\n",
        "        # Determine the preferred contact method\n",
        "        preferred_contact_method = \"chat\" if \"email\" not in narrative.lower() else \"email\"\n",
        "        print(f\"Preferred Contact Method: {preferred_contact_method}\")\n",
        "\n",
        "# Write the results to the CSV file\n",
        "        csv_writer.writerow([idx, narrative.strip(), sentiment_polarity, sentiment_subjectivity, entities, preferred_contact_method])"
      ],
      "metadata": {
        "colab": {
          "base_uri": "https://localhost:8080/"
        },
        "id": "M1QkYk7ccPWv",
        "outputId": "d1e95c73-3217-461a-f552-3bd5aab75d3f"
      },
      "execution_count": 59,
      "outputs": [
        {
          "output_type": "stream",
          "name": "stdout",
          "text": [
            "\n",
            "Processing Feedback 1:\n",
            "------------------------------\n",
            "Your products are excellent. I really love the quality! However, delivery to my location in Los Angeles was a bit slow. abbey@email.com\n",
            "Sentiment: 0.44166666666666665 (Polarity), 0.6666666666666666 (Subjectivity)\n",
            "Named Entities: [('Los Angeles', 'GPE')]\n",
            "Preferred Contact Method: email\n",
            "\n",
            "Processing Feedback 2:\n",
            "------------------------------\n",
            "The customer service team in New York was helpful in resolving my issue. I appreciate the assistance. brian@email.com\n",
            "Sentiment: 0.13636363636363635 (Polarity), 0.45454545454545453 (Subjectivity)\n",
            "Named Entities: [('New York', 'GPE')]\n",
            "Preferred Contact Method: email\n",
            "\n",
            "Processing Feedback 3:\n",
            "------------------------------\n",
            "The new features in the latest release are fantastic! They have greatly improved the user experience in San Francisco.\n",
            "Sentiment: 0.48409090909090907 (Polarity), 0.7511363636363636 (Subjectivity)\n",
            "Named Entities: [('San Francisco', 'GPE')]\n",
            "Preferred Contact Method: chat\n",
            "\n",
            "Processing Feedback 4:\n",
            "------------------------------\n",
            "The product didn't meet my expectations, and I'm disappointed. I hope you can address the issues in Chicago. My email address is emailme@email.com\n",
            "Sentiment: -0.75 (Polarity), 0.75 (Subjectivity)\n",
            "Named Entities: [('Chicago', 'GPE')]\n",
            "Preferred Contact Method: email\n"
          ]
        }
      ]
    }
  ],
  "metadata": {
    "colab": {
      "name": "Welcome to Colab",
      "provenance": [],
      "include_colab_link": true
    },
    "kernelspec": {
      "display_name": "Python 3",
      "name": "python3"
    }
  },
  "nbformat": 4,
  "nbformat_minor": 0
}